{
 "cells": [
  {
   "cell_type": "code",
   "execution_count": 1,
   "metadata": {},
   "outputs": [],
   "source": [
    "import geopandas as gpd\n",
    "df = gpd.read_file('h12ka13.shp')"
   ]
  },
  {
   "cell_type": "code",
   "execution_count": 30,
   "metadata": {},
   "outputs": [
    {
     "data": {
      "text/html": [
       "<div>\n",
       "<style scoped>\n",
       "    .dataframe tbody tr th:only-of-type {\n",
       "        vertical-align: middle;\n",
       "    }\n",
       "\n",
       "    .dataframe tbody tr th {\n",
       "        vertical-align: top;\n",
       "    }\n",
       "\n",
       "    .dataframe thead th {\n",
       "        text-align: right;\n",
       "    }\n",
       "</style>\n",
       "<table border=\"1\" class=\"dataframe\">\n",
       "  <thead>\n",
       "    <tr style=\"text-align: right;\">\n",
       "      <th></th>\n",
       "      <th>KEY_CODE</th>\n",
       "      <th>PREF</th>\n",
       "      <th>CITY</th>\n",
       "      <th>S_AREA</th>\n",
       "      <th>PREF_NAME</th>\n",
       "      <th>CITY_NAME</th>\n",
       "      <th>S_NAME</th>\n",
       "      <th>KIGO_E</th>\n",
       "      <th>HCODE</th>\n",
       "      <th>AREA</th>\n",
       "      <th>...</th>\n",
       "      <th>MOJI</th>\n",
       "      <th>SEQ_NO2</th>\n",
       "      <th>KSUM</th>\n",
       "      <th>CSUM</th>\n",
       "      <th>JINKO</th>\n",
       "      <th>SETAI</th>\n",
       "      <th>X_CODE</th>\n",
       "      <th>Y_CODE</th>\n",
       "      <th>KCODE1</th>\n",
       "      <th>geometry</th>\n",
       "    </tr>\n",
       "  </thead>\n",
       "  <tbody>\n",
       "    <tr>\n",
       "      <th>0</th>\n",
       "      <td>13101001001</td>\n",
       "      <td>13</td>\n",
       "      <td>101</td>\n",
       "      <td>001001</td>\n",
       "      <td>東京都</td>\n",
       "      <td>千代田区</td>\n",
       "      <td>丸の内１丁目</td>\n",
       "      <td>None</td>\n",
       "      <td>8101</td>\n",
       "      <td>374531.750</td>\n",
       "      <td>...</td>\n",
       "      <td>丸の内１丁目</td>\n",
       "      <td>3344.0</td>\n",
       "      <td>11</td>\n",
       "      <td>11</td>\n",
       "      <td>73.0</td>\n",
       "      <td>73.0</td>\n",
       "      <td>139.765936</td>\n",
       "      <td>35.682157</td>\n",
       "      <td>0010-01</td>\n",
       "      <td>POLYGON ((139.76573 35.68468, 139.76637 35.684...</td>\n",
       "    </tr>\n",
       "    <tr>\n",
       "      <th>1</th>\n",
       "      <td>13101001002</td>\n",
       "      <td>13</td>\n",
       "      <td>101</td>\n",
       "      <td>001002</td>\n",
       "      <td>東京都</td>\n",
       "      <td>千代田区</td>\n",
       "      <td>丸の内２丁目</td>\n",
       "      <td>None</td>\n",
       "      <td>8101</td>\n",
       "      <td>142910.141</td>\n",
       "      <td>...</td>\n",
       "      <td>丸の内２丁目</td>\n",
       "      <td>3453.0</td>\n",
       "      <td>7</td>\n",
       "      <td>7</td>\n",
       "      <td>5.0</td>\n",
       "      <td>5.0</td>\n",
       "      <td>139.763297</td>\n",
       "      <td>35.679767</td>\n",
       "      <td>0010-02</td>\n",
       "      <td>POLYGON ((139.76213 35.68220, 139.76351 35.681...</td>\n",
       "    </tr>\n",
       "  </tbody>\n",
       "</table>\n",
       "<p>2 rows × 47 columns</p>\n",
       "</div>"
      ],
      "text/plain": [
       "      KEY_CODE PREF CITY  S_AREA PREF_NAME CITY_NAME  S_NAME KIGO_E  HCODE  \\\n",
       "0  13101001001   13  101  001001       東京都      千代田区  丸の内１丁目   None   8101   \n",
       "1  13101001002   13  101  001002       東京都      千代田区  丸の内２丁目   None   8101   \n",
       "\n",
       "         AREA  ...    MOJI  SEQ_NO2  KSUM CSUM JINKO SETAI      X_CODE  \\\n",
       "0  374531.750  ...  丸の内１丁目   3344.0    11   11  73.0  73.0  139.765936   \n",
       "1  142910.141  ...  丸の内２丁目   3453.0     7    7   5.0   5.0  139.763297   \n",
       "\n",
       "      Y_CODE   KCODE1                                           geometry  \n",
       "0  35.682157  0010-01  POLYGON ((139.76573 35.68468, 139.76637 35.684...  \n",
       "1  35.679767  0010-02  POLYGON ((139.76213 35.68220, 139.76351 35.681...  \n",
       "\n",
       "[2 rows x 47 columns]"
      ]
     },
     "execution_count": 30,
     "metadata": {},
     "output_type": "execute_result"
    }
   ],
   "source": [
    "df.head(2)\n",
    "#"
   ]
  },
  {
   "cell_type": "code",
   "execution_count": 29,
   "metadata": {},
   "outputs": [
    {
     "data": {
      "text/plain": [
       "PostalCode(jisx0402='01102', old_code='002  ', postal_code='0028071', prefecture='北海道', city='札幌市北区', neighborhood='あいの里一条', prefecture_kana='ホッカイドウ', city_kana='サッポロシキタク', neighborhood_kana='アイノサト１ジョウ', partial=False, chome=True, koazabanchi=False, multi=False, multiline=False, update_status='変更なし', update_reason='変更なし', note=None, alternates=[])"
      ]
     },
     "execution_count": 29,
     "metadata": {},
     "output_type": "execute_result"
    }
   ],
   "source": [
    "import posuto\n",
    "posuto.get('0028071')"
   ]
  },
  {
   "cell_type": "code",
   "execution_count": 7,
   "metadata": {},
   "outputs": [
    {
     "data": {
      "text/plain": [
       "['__class__',\n",
       " '__del__',\n",
       " '__delattr__',\n",
       " '__dict__',\n",
       " '__dir__',\n",
       " '__doc__',\n",
       " '__eq__',\n",
       " '__format__',\n",
       " '__ge__',\n",
       " '__getattribute__',\n",
       " '__gt__',\n",
       " '__hash__',\n",
       " '__init__',\n",
       " '__init_subclass__',\n",
       " '__le__',\n",
       " '__lt__',\n",
       " '__module__',\n",
       " '__ne__',\n",
       " '__new__',\n",
       " '__reduce__',\n",
       " '__reduce_ex__',\n",
       " '__repr__',\n",
       " '__setattr__',\n",
       " '__sizeof__',\n",
       " '__str__',\n",
       " '__subclasshook__',\n",
       " '__weakref__',\n",
       " 'address_from_town',\n",
       " 'c',\n",
       " 'cities_from_prefecture',\n",
       " 'close',\n",
       " 'conn',\n",
       " 'from_postal_code',\n",
       " 'prefectures',\n",
       " 'towns_from_city']"
      ]
     },
     "execution_count": 7,
     "metadata": {},
     "output_type": "execute_result"
    }
   ],
   "source": [
    "from jusho import Jusho\n",
    "\n",
    "postman = Jusho()\n",
    "dir(postman)"
   ]
  },
  {
   "cell_type": "code",
   "execution_count": 13,
   "metadata": {},
   "outputs": [
    {
     "ename": "TypeError",
     "evalue": "address_from_town() missing 2 required positional arguments: 'city' and 'town'",
     "output_type": "error",
     "traceback": [
      "\u001b[0;31m----------------------------------------------------------------\u001b[0m",
      "\u001b[0;31mTypeError\u001b[0m                      Traceback (most recent call last)",
      "\u001b[0;32m<ipython-input-13-4933979822d4>\u001b[0m in \u001b[0;36m<module>\u001b[0;34m\u001b[0m\n\u001b[0;32m----> 1\u001b[0;31m \u001b[0mpostman\u001b[0m\u001b[0;34m.\u001b[0m\u001b[0maddress_from_town\u001b[0m\u001b[0;34m(\u001b[0m\u001b[0;34m'東京都千代田区丸の内一丁目'\u001b[0m\u001b[0;34m)\u001b[0m\u001b[0;34m\u001b[0m\u001b[0;34m\u001b[0m\u001b[0m\n\u001b[0m",
      "\u001b[0;31mTypeError\u001b[0m: address_from_town() missing 2 required positional arguments: 'city' and 'town'"
     ]
    }
   ],
   "source": [
    "postman.address_from_town('東京都千代田区丸の内一丁目')"
   ]
  },
  {
   "cell_type": "code",
   "execution_count": 14,
   "metadata": {},
   "outputs": [
    {
     "data": {
      "text/plain": [
       "\u001b[0;31mSignature:\u001b[0m\n",
       "\u001b[0mpostman\u001b[0m\u001b[0;34m.\u001b[0m\u001b[0maddress_from_town\u001b[0m\u001b[0;34m(\u001b[0m\u001b[0;34m\u001b[0m\n",
       "\u001b[0;34m\u001b[0m    \u001b[0mprefecture\u001b[0m\u001b[0;34m:\u001b[0m \u001b[0mstr\u001b[0m\u001b[0;34m,\u001b[0m\u001b[0;34m\u001b[0m\n",
       "\u001b[0;34m\u001b[0m    \u001b[0mcity\u001b[0m\u001b[0;34m:\u001b[0m \u001b[0mstr\u001b[0m\u001b[0;34m,\u001b[0m\u001b[0;34m\u001b[0m\n",
       "\u001b[0;34m\u001b[0m    \u001b[0mtown\u001b[0m\u001b[0;34m:\u001b[0m \u001b[0mstr\u001b[0m\u001b[0;34m,\u001b[0m\u001b[0;34m\u001b[0m\n",
       "\u001b[0;34m\u001b[0m    \u001b[0mtype\u001b[0m\u001b[0;34m=\u001b[0m\u001b[0;34m'kana'\u001b[0m\u001b[0;34m,\u001b[0m\u001b[0;34m\u001b[0m\n",
       "\u001b[0;34m\u001b[0m\u001b[0;34m)\u001b[0m \u001b[0;34m->\u001b[0m \u001b[0mUnion\u001b[0m\u001b[0;34m[\u001b[0m\u001b[0mList\u001b[0m\u001b[0;34m[\u001b[0m\u001b[0mjusho\u001b[0m\u001b[0;34m.\u001b[0m\u001b[0mjusho\u001b[0m\u001b[0;34m.\u001b[0m\u001b[0mAddress\u001b[0m\u001b[0;34m]\u001b[0m\u001b[0;34m,\u001b[0m \u001b[0mList\u001b[0m\u001b[0;34m[\u001b[0m\u001b[0mNoneType\u001b[0m\u001b[0;34m]\u001b[0m\u001b[0;34m]\u001b[0m\u001b[0;34m\u001b[0m\u001b[0;34m\u001b[0m\u001b[0m\n",
       "\u001b[0;31mDocstring:\u001b[0m <no docstring>\n",
       "\u001b[0;31mFile:\u001b[0m      ~/.pyenv/versions/testDash/lib/python3.7/site-packages/jusho/jusho.py\n",
       "\u001b[0;31mType:\u001b[0m      method\n"
      ]
     },
     "metadata": {},
     "output_type": "display_data"
    }
   ],
   "source": [
    "postman.address_from_town?"
   ]
  },
  {
   "cell_type": "code",
   "execution_count": null,
   "metadata": {},
   "outputs": [],
   "source": []
  }
 ],
 "metadata": {
  "kernelspec": {
   "display_name": "Python 3",
   "language": "python",
   "name": "python3"
  },
  "language_info": {
   "codemirror_mode": {
    "name": "ipython",
    "version": 3
   },
   "file_extension": ".py",
   "mimetype": "text/x-python",
   "name": "python",
   "nbconvert_exporter": "python",
   "pygments_lexer": "ipython3",
   "version": "3.7.11"
  }
 },
 "nbformat": 4,
 "nbformat_minor": 4
}
