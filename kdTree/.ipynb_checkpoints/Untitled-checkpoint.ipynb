{
 "cells": [
  {
   "cell_type": "code",
   "execution_count": 12,
   "metadata": {},
   "outputs": [
    {
     "data": {
      "text/html": [
       "<div>\n",
       "<style scoped>\n",
       "    .dataframe tbody tr th:only-of-type {\n",
       "        vertical-align: middle;\n",
       "    }\n",
       "\n",
       "    .dataframe tbody tr th {\n",
       "        vertical-align: top;\n",
       "    }\n",
       "\n",
       "    .dataframe thead th {\n",
       "        text-align: right;\n",
       "    }\n",
       "</style>\n",
       "<table border=\"1\" class=\"dataframe\">\n",
       "  <thead>\n",
       "    <tr style=\"text-align: right;\">\n",
       "      <th></th>\n",
       "      <th>pref</th>\n",
       "      <th>station</th>\n",
       "      <th>line</th>\n",
       "      <th>lat</th>\n",
       "      <th>long</th>\n",
       "      <th>passenger_2017</th>\n",
       "      <th>passenger_2018</th>\n",
       "      <th>passenger_2019</th>\n",
       "    </tr>\n",
       "  </thead>\n",
       "  <tbody>\n",
       "    <tr>\n",
       "      <th>0</th>\n",
       "      <td>埼玉県</td>\n",
       "      <td>大宮</td>\n",
       "      <td>複数ライン</td>\n",
       "      <td>35.906256</td>\n",
       "      <td>139.623625</td>\n",
       "      <td>689999</td>\n",
       "      <td>702577</td>\n",
       "      <td>700854</td>\n",
       "    </tr>\n",
       "    <tr>\n",
       "      <th>1</th>\n",
       "      <td>神奈川県</td>\n",
       "      <td>いずみ中央</td>\n",
       "      <td>相鉄いずみ野線</td>\n",
       "      <td>35.415500</td>\n",
       "      <td>139.487104</td>\n",
       "      <td>16016</td>\n",
       "      <td>16195</td>\n",
       "      <td>16257</td>\n",
       "    </tr>\n",
       "  </tbody>\n",
       "</table>\n",
       "</div>"
      ],
      "text/plain": [
       "   pref station     line        lat        long  passenger_2017  \\\n",
       "0   埼玉県      大宮    複数ライン  35.906256  139.623625          689999   \n",
       "1  神奈川県   いずみ中央  相鉄いずみ野線  35.415500  139.487104           16016   \n",
       "\n",
       "   passenger_2018  passenger_2019  \n",
       "0          702577          700854  \n",
       "1           16195           16257  "
      ]
     },
     "execution_count": 12,
     "metadata": {},
     "output_type": "execute_result"
    }
   ],
   "source": [
    "import scipy.spatial as ss   #早いのでscipyを採用\n",
    "import pandas as pd\n",
    "\n",
    "\n",
    "df_station = pd.read_csv('/Users/shibuya/GRI/data/processed/station_data.csv') \n",
    "df_station.columns = ['pref','station','line','lat','long','passenger_2017','passenger_2018','passenger_2019']\n",
    "df_station.head(2)\n"
   ]
  },
  {
   "cell_type": "code",
   "execution_count": 11,
   "metadata": {},
   "outputs": [],
   "source": [
    "#kdTreeの作成\n",
    "station_lat_long = [None] * len(df_station)\n",
    "for i, lat_long in enumerate(zip(df_station['lat'].to_numpy(), df_station['long'].to_numpy() )):\n",
    "    station_lat_long[i] = lat_long\n",
    "\n",
    "tree_station = ss.KDTree(station_lat_long, leafsize=10) "
   ]
  },
  {
   "cell_type": "code",
   "execution_count": 20,
   "metadata": {},
   "outputs": [
    {
     "name": "stdout",
     "output_type": "stream",
     "text": [
      "0.7005528484632724 908\n"
     ]
    },
    {
     "data": {
      "text/plain": [
       "pref                  埼玉県\n",
       "station                柳生\n",
       "line                東武日光線\n",
       "lat               36.2066\n",
       "long               139.66\n",
       "passenger_2017       1471\n",
       "passenger_2018       1392\n",
       "passenger_2019       1196\n",
       "Name: 908, dtype: object"
      ]
     },
     "execution_count": 20,
     "metadata": {},
     "output_type": "execute_result"
    }
   ],
   "source": [
    "#使い方  最近傍探索\n",
    "v = (36.90625, 139.6232) \n",
    "distance_, station_idx = tree_station.query(v)\n",
    "station_ = df_station.iloc[station_idx]\n",
    "\n",
    "print(distance_, station_idx)\n",
    "station_"
   ]
  },
  {
   "cell_type": "code",
   "execution_count": 21,
   "metadata": {},
   "outputs": [
    {
     "name": "stdout",
     "output_type": "stream",
     "text": [
      "[0.70055285 0.71636293 0.73633936] [ 908  705 1359]\n"
     ]
    },
    {
     "data": {
      "text/html": [
       "<div>\n",
       "<style scoped>\n",
       "    .dataframe tbody tr th:only-of-type {\n",
       "        vertical-align: middle;\n",
       "    }\n",
       "\n",
       "    .dataframe tbody tr th {\n",
       "        vertical-align: top;\n",
       "    }\n",
       "\n",
       "    .dataframe thead th {\n",
       "        text-align: right;\n",
       "    }\n",
       "</style>\n",
       "<table border=\"1\" class=\"dataframe\">\n",
       "  <thead>\n",
       "    <tr style=\"text-align: right;\">\n",
       "      <th></th>\n",
       "      <th>pref</th>\n",
       "      <th>station</th>\n",
       "      <th>line</th>\n",
       "      <th>lat</th>\n",
       "      <th>long</th>\n",
       "      <th>passenger_2017</th>\n",
       "      <th>passenger_2018</th>\n",
       "      <th>passenger_2019</th>\n",
       "    </tr>\n",
       "  </thead>\n",
       "  <tbody>\n",
       "    <tr>\n",
       "      <th>908</th>\n",
       "      <td>埼玉県</td>\n",
       "      <td>柳生</td>\n",
       "      <td>東武日光線</td>\n",
       "      <td>36.206641</td>\n",
       "      <td>139.659553</td>\n",
       "      <td>1471</td>\n",
       "      <td>1392</td>\n",
       "      <td>1196</td>\n",
       "    </tr>\n",
       "    <tr>\n",
       "      <th>705</th>\n",
       "      <td>埼玉県</td>\n",
       "      <td>新古河</td>\n",
       "      <td>東武日光線</td>\n",
       "      <td>36.192726</td>\n",
       "      <td>139.686913</td>\n",
       "      <td>1794</td>\n",
       "      <td>1725</td>\n",
       "      <td>1631</td>\n",
       "    </tr>\n",
       "    <tr>\n",
       "      <th>1359</th>\n",
       "      <td>埼玉県</td>\n",
       "      <td>西羽生</td>\n",
       "      <td>秩父鉄道</td>\n",
       "      <td>36.176558</td>\n",
       "      <td>139.524482</td>\n",
       "      <td>342</td>\n",
       "      <td>323</td>\n",
       "      <td>308</td>\n",
       "    </tr>\n",
       "  </tbody>\n",
       "</table>\n",
       "</div>"
      ],
      "text/plain": [
       "     pref station   line        lat        long  passenger_2017  \\\n",
       "908   埼玉県      柳生  東武日光線  36.206641  139.659553            1471   \n",
       "705   埼玉県     新古河  東武日光線  36.192726  139.686913            1794   \n",
       "1359  埼玉県     西羽生   秩父鉄道  36.176558  139.524482             342   \n",
       "\n",
       "      passenger_2018  passenger_2019  \n",
       "908             1392            1196  \n",
       "705             1725            1631  \n",
       "1359             323             308  "
      ]
     },
     "execution_count": 21,
     "metadata": {},
     "output_type": "execute_result"
    }
   ],
   "source": [
    "#使い方  最近傍探索で近傍複数の駅を探索\n",
    "distance_, station_idx = tree_station.query(v,3)\n",
    "station_ = df_station.iloc[station_idx]\n",
    "\n",
    "print(distance_, station_idx)\n",
    "station_"
   ]
  },
  {
   "cell_type": "code",
   "execution_count": null,
   "metadata": {},
   "outputs": [],
   "source": []
  }
 ],
 "metadata": {
  "kernelspec": {
   "display_name": "Python 3",
   "language": "python",
   "name": "python3"
  },
  "language_info": {
   "codemirror_mode": {
    "name": "ipython",
    "version": 3
   },
   "file_extension": ".py",
   "mimetype": "text/x-python",
   "name": "python",
   "nbconvert_exporter": "python",
   "pygments_lexer": "ipython3",
   "version": "3.7.12"
  }
 },
 "nbformat": 4,
 "nbformat_minor": 4
}
