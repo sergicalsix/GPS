{
 "cells": [
  {
   "cell_type": "markdown",
   "metadata": {},
   "source": [
    "# 郵便番号shapefileの作成\n",
    "1. 郵便番号割り振り\n",
    "2. 領域の結合\n",
    "3. shapefileで保存\n",
    "4. QC\n",
    "\n",
    "## 1 郵便番号割り振り\n",
    "\n",
    "## 2 領域の結合\n",
    "from shapely.ops import cascaded_union\n",
    "\n",
    "polygons =  [df_.iloc[i]['geometry'] for i in range(len(df_))]\n",
    "\n",
    "dissolved_polygons = cascaded_union(polygons)\n",
    "df1 = gpd.GeoDataFrame({'geometry': [dissolved_polygons], 'code':'1'})\n",
    "\n",
    "## 3 shapefileで保存\n",
    "df.to_file('hoge.shp')"
   ]
  },
  {
   "cell_type": "code",
   "execution_count": null,
   "metadata": {},
   "outputs": [],
   "source": [
    "import pandas as pd\n",
    "import geopandas as gpd\n",
    "import matplotlib.pyplot as plt\n",
    "import posuto\n",
    "#https://github.com/polm/posuto\n",
    "%matplotlib inline\n",
    "\n",
    "df_tokyo = gpd.read_file('h12ka13.shp')"
   ]
  },
  {
   "cell_type": "code",
   "execution_count": 142,
   "metadata": {},
   "outputs": [
    {
     "data": {
      "text/html": [
       "<div>\n",
       "<style scoped>\n",
       "    .dataframe tbody tr th:only-of-type {\n",
       "        vertical-align: middle;\n",
       "    }\n",
       "\n",
       "    .dataframe tbody tr th {\n",
       "        vertical-align: top;\n",
       "    }\n",
       "\n",
       "    .dataframe thead th {\n",
       "        text-align: right;\n",
       "    }\n",
       "</style>\n",
       "<table border=\"1\" class=\"dataframe\">\n",
       "  <thead>\n",
       "    <tr style=\"text-align: right;\">\n",
       "      <th></th>\n",
       "      <th>number</th>\n",
       "      <th>pref</th>\n",
       "      <th>city</th>\n",
       "      <th>town</th>\n",
       "      <th>_</th>\n",
       "      <th>__</th>\n",
       "      <th>___</th>\n",
       "    </tr>\n",
       "  </thead>\n",
       "  <tbody>\n",
       "    <tr>\n",
       "      <th>0</th>\n",
       "      <td>1000000</td>\n",
       "      <td>東京都</td>\n",
       "      <td>千代田区</td>\n",
       "      <td>以下に掲載がない場合</td>\n",
       "      <td>TOKYO TO</td>\n",
       "      <td>CHIYODA KU</td>\n",
       "      <td>IKANIKEISAIGANAIBAAI</td>\n",
       "    </tr>\n",
       "    <tr>\n",
       "      <th>1</th>\n",
       "      <td>1020072</td>\n",
       "      <td>東京都</td>\n",
       "      <td>千代田区</td>\n",
       "      <td>飯田橋</td>\n",
       "      <td>TOKYO TO</td>\n",
       "      <td>CHIYODA KU</td>\n",
       "      <td>IIDABASHI</td>\n",
       "    </tr>\n",
       "    <tr>\n",
       "      <th>2</th>\n",
       "      <td>1020082</td>\n",
       "      <td>東京都</td>\n",
       "      <td>千代田区</td>\n",
       "      <td>一番町</td>\n",
       "      <td>TOKYO TO</td>\n",
       "      <td>CHIYODA KU</td>\n",
       "      <td>ICHIBANCHO</td>\n",
       "    </tr>\n",
       "    <tr>\n",
       "      <th>3</th>\n",
       "      <td>1010032</td>\n",
       "      <td>東京都</td>\n",
       "      <td>千代田区</td>\n",
       "      <td>岩本町</td>\n",
       "      <td>TOKYO TO</td>\n",
       "      <td>CHIYODA KU</td>\n",
       "      <td>IWAMOTOCHO</td>\n",
       "    </tr>\n",
       "    <tr>\n",
       "      <th>4</th>\n",
       "      <td>1010047</td>\n",
       "      <td>東京都</td>\n",
       "      <td>千代田区</td>\n",
       "      <td>内神田</td>\n",
       "      <td>TOKYO TO</td>\n",
       "      <td>CHIYODA KU</td>\n",
       "      <td>UCHIKANDA</td>\n",
       "    </tr>\n",
       "    <tr>\n",
       "      <th>5</th>\n",
       "      <td>1000011</td>\n",
       "      <td>東京都</td>\n",
       "      <td>千代田区</td>\n",
       "      <td>内幸町</td>\n",
       "      <td>TOKYO TO</td>\n",
       "      <td>CHIYODA KU</td>\n",
       "      <td>UCHISAIWAICHO</td>\n",
       "    </tr>\n",
       "  </tbody>\n",
       "</table>\n",
       "</div>"
      ],
      "text/plain": [
       "    number pref  city        town         _          __                   ___\n",
       "0  1000000  東京都  千代田区  以下に掲載がない場合  TOKYO TO  CHIYODA KU  IKANIKEISAIGANAIBAAI\n",
       "1  1020072  東京都  千代田区         飯田橋  TOKYO TO  CHIYODA KU             IIDABASHI\n",
       "2  1020082  東京都  千代田区         一番町  TOKYO TO  CHIYODA KU            ICHIBANCHO\n",
       "3  1010032  東京都  千代田区         岩本町  TOKYO TO  CHIYODA KU            IWAMOTOCHO\n",
       "4  1010047  東京都  千代田区         内神田  TOKYO TO  CHIYODA KU             UCHIKANDA\n",
       "5  1000011  東京都  千代田区         内幸町  TOKYO TO  CHIYODA KU         UCHISAIWAICHO"
      ]
     },
     "execution_count": 142,
     "metadata": {},
     "output_type": "execute_result"
    }
   ],
   "source": [
    "def remove_space(x):\n",
    "    return x.replace('　', '').replace('　','')\n",
    "df = pd.read_csv('KEN_ALL_ROME.CSV',encoding=\"SHIFT-JIS\",header = None)\n",
    "df.columns = ['number','pref','city','town','_','__','___']\n",
    "df.city = df.city.apply(remove_space)\n",
    "df.town = df.town.apply(remove_space)\n",
    "df = df[df['pref'] == '東京都'].reset_index(drop = True)\n",
    "df = df[df['city'] == '千代田区'].reset_index(drop = True)\n",
    "#df = df[len(df['town']) <= 10].reset_index(drop = True)\n",
    "df.head(6)"
   ]
  },
  {
   "cell_type": "code",
   "execution_count": null,
   "metadata": {},
   "outputs": [],
   "source": [
    "df['town']"
   ]
  },
  {
   "cell_type": "code",
   "execution_count": 136,
   "metadata": {},
   "outputs": [
    {
     "data": {
      "text/html": [
       "<div>\n",
       "<style scoped>\n",
       "    .dataframe tbody tr th:only-of-type {\n",
       "        vertical-align: middle;\n",
       "    }\n",
       "\n",
       "    .dataframe tbody tr th {\n",
       "        vertical-align: top;\n",
       "    }\n",
       "\n",
       "    .dataframe thead th {\n",
       "        text-align: right;\n",
       "    }\n",
       "</style>\n",
       "<table border=\"1\" class=\"dataframe\">\n",
       "  <thead>\n",
       "    <tr style=\"text-align: right;\">\n",
       "      <th></th>\n",
       "      <th>KEY_CODE</th>\n",
       "      <th>PREF</th>\n",
       "      <th>CITY</th>\n",
       "      <th>S_AREA</th>\n",
       "      <th>PREF_NAME</th>\n",
       "      <th>CITY_NAME</th>\n",
       "      <th>S_NAME</th>\n",
       "      <th>KIGO_E</th>\n",
       "      <th>HCODE</th>\n",
       "      <th>AREA</th>\n",
       "      <th>...</th>\n",
       "      <th>MOJI</th>\n",
       "      <th>SEQ_NO2</th>\n",
       "      <th>KSUM</th>\n",
       "      <th>CSUM</th>\n",
       "      <th>JINKO</th>\n",
       "      <th>SETAI</th>\n",
       "      <th>X_CODE</th>\n",
       "      <th>Y_CODE</th>\n",
       "      <th>KCODE1</th>\n",
       "      <th>geometry</th>\n",
       "    </tr>\n",
       "  </thead>\n",
       "  <tbody>\n",
       "    <tr>\n",
       "      <th>0</th>\n",
       "      <td>13101001001</td>\n",
       "      <td>13</td>\n",
       "      <td>101</td>\n",
       "      <td>001001</td>\n",
       "      <td>東京都</td>\n",
       "      <td>千代田区</td>\n",
       "      <td>丸の内１丁目</td>\n",
       "      <td>None</td>\n",
       "      <td>8101</td>\n",
       "      <td>374531.75</td>\n",
       "      <td>...</td>\n",
       "      <td>丸の内１丁目</td>\n",
       "      <td>3344.0</td>\n",
       "      <td>11</td>\n",
       "      <td>11</td>\n",
       "      <td>73.0</td>\n",
       "      <td>73.0</td>\n",
       "      <td>139.765936</td>\n",
       "      <td>35.682157</td>\n",
       "      <td>0010-01</td>\n",
       "      <td>POLYGON ((139.76573 35.68468, 139.76637 35.684...</td>\n",
       "    </tr>\n",
       "  </tbody>\n",
       "</table>\n",
       "<p>1 rows × 47 columns</p>\n",
       "</div>"
      ],
      "text/plain": [
       "      KEY_CODE PREF CITY  S_AREA PREF_NAME CITY_NAME  S_NAME KIGO_E  HCODE  \\\n",
       "0  13101001001   13  101  001001       東京都      千代田区  丸の内１丁目   None   8101   \n",
       "\n",
       "        AREA  ...    MOJI  SEQ_NO2  KSUM CSUM JINKO SETAI      X_CODE  \\\n",
       "0  374531.75  ...  丸の内１丁目   3344.0    11   11  73.0  73.0  139.765936   \n",
       "\n",
       "      Y_CODE   KCODE1                                           geometry  \n",
       "0  35.682157  0010-01  POLYGON ((139.76573 35.68468, 139.76637 35.684...  \n",
       "\n",
       "[1 rows x 47 columns]"
      ]
     },
     "execution_count": 136,
     "metadata": {},
     "output_type": "execute_result"
    }
   ],
   "source": [
    "df_tokyo[df_tokyo['CITY_NAME'] == '千代田区'].head(1)"
   ]
  },
  {
   "cell_type": "code",
   "execution_count": 137,
   "metadata": {},
   "outputs": [
    {
     "data": {
      "text/html": [
       "<div>\n",
       "<style scoped>\n",
       "    .dataframe tbody tr th:only-of-type {\n",
       "        vertical-align: middle;\n",
       "    }\n",
       "\n",
       "    .dataframe tbody tr th {\n",
       "        vertical-align: top;\n",
       "    }\n",
       "\n",
       "    .dataframe thead th {\n",
       "        text-align: right;\n",
       "    }\n",
       "</style>\n",
       "<table border=\"1\" class=\"dataframe\">\n",
       "  <thead>\n",
       "    <tr style=\"text-align: right;\">\n",
       "      <th></th>\n",
       "      <th>KEY_CODE</th>\n",
       "      <th>PREF</th>\n",
       "      <th>CITY</th>\n",
       "      <th>S_AREA</th>\n",
       "      <th>PREF_NAME</th>\n",
       "      <th>CITY_NAME</th>\n",
       "      <th>S_NAME</th>\n",
       "      <th>KIGO_E</th>\n",
       "      <th>HCODE</th>\n",
       "      <th>AREA</th>\n",
       "      <th>...</th>\n",
       "      <th>MOJI</th>\n",
       "      <th>SEQ_NO2</th>\n",
       "      <th>KSUM</th>\n",
       "      <th>CSUM</th>\n",
       "      <th>JINKO</th>\n",
       "      <th>SETAI</th>\n",
       "      <th>X_CODE</th>\n",
       "      <th>Y_CODE</th>\n",
       "      <th>KCODE1</th>\n",
       "      <th>geometry</th>\n",
       "    </tr>\n",
       "  </thead>\n",
       "  <tbody>\n",
       "    <tr>\n",
       "      <th>113</th>\n",
       "      <td>131010570</td>\n",
       "      <td>13</td>\n",
       "      <td>101</td>\n",
       "      <td>057000</td>\n",
       "      <td>東京都</td>\n",
       "      <td>千代田区</td>\n",
       "      <td>四番町</td>\n",
       "      <td>None</td>\n",
       "      <td>8101</td>\n",
       "      <td>100310.727</td>\n",
       "      <td>...</td>\n",
       "      <td>四番町</td>\n",
       "      <td>3188.0</td>\n",
       "      <td>10</td>\n",
       "      <td>17</td>\n",
       "      <td>1551.0</td>\n",
       "      <td>622.0</td>\n",
       "      <td>139.737878</td>\n",
       "      <td>35.689096</td>\n",
       "      <td>0570-00</td>\n",
       "      <td>POLYGON ((139.73949 35.69089, 139.73975 35.690...</td>\n",
       "    </tr>\n",
       "  </tbody>\n",
       "</table>\n",
       "<p>1 rows × 47 columns</p>\n",
       "</div>"
      ],
      "text/plain": [
       "      KEY_CODE PREF CITY  S_AREA PREF_NAME CITY_NAME S_NAME KIGO_E  HCODE  \\\n",
       "113  131010570   13  101  057000       東京都      千代田区    四番町   None   8101   \n",
       "\n",
       "           AREA  ...  MOJI  SEQ_NO2  KSUM CSUM   JINKO  SETAI      X_CODE  \\\n",
       "113  100310.727  ...   四番町   3188.0    10   17  1551.0  622.0  139.737878   \n",
       "\n",
       "        Y_CODE   KCODE1                                           geometry  \n",
       "113  35.689096  0570-00  POLYGON ((139.73949 35.69089, 139.73975 35.690...  \n",
       "\n",
       "[1 rows x 47 columns]"
      ]
     },
     "execution_count": 137,
     "metadata": {},
     "output_type": "execute_result"
    }
   ],
   "source": [
    "df_tokyo[df_tokyo['S_NAME'] == '四番町']"
   ]
  },
  {
   "cell_type": "code",
   "execution_count": 105,
   "metadata": {},
   "outputs": [
    {
     "data": {
      "image/png": "[encoded data removed]",
      "text/plain": [
       "<Figure size 432x288 with 1 Axes>"
      ]
     },
     "metadata": {
      "needs_background": "light"
     },
     "output_type": "display_data"
    }
   ],
   "source": [
    "df_ = df_tokyo.head(2)\n",
    "#df_ = df_[['geometry']]\n",
    "df_.plot()\n",
    "plt.show()"
   ]
  },
  {
   "cell_type": "code",
   "execution_count": 108,
   "metadata": {},
   "outputs": [
    {
     "name": "stdout",
     "output_type": "stream",
     "text": [
      "POLYGON ((139.7657343155813 35.68467924993617, 139.7663671634398 35.6845452083835, 139.767612321781 35.68428129394623, 139.7682939664152 35.68412846680623, 139.768877572868 35.68400815231711, 139.769062769331 35.68397557675839, 139.7695027396875 35.68387806871807, 139.7705230034165 35.68365196046437, 139.7700919339185 35.68272532925114, 139.7697511825112 35.68206947250616, 139.7694295846887 35.68145971462013, 139.7693269780016 35.68129054734541, 139.7687624538989 35.68049077171516, 139.7685145958415 35.68014329366107, 139.7682041585813 35.67966170228144, 139.7679905117653 35.67931378393816, 139.7671136686308 35.67788139256424, 139.7666988242587 35.67730618823897, 139.7666413346857 35.67722647670985, 139.7659629741612 35.67736964947976, 139.7658202091894 35.67739354740522, 139.7651853670426 35.67753508529973, 139.7649235613821 35.67760599021324, 139.7656000673716 35.67939453708055, 139.7655618013588 35.67949775069537, 139.7653520431712 35.67981786559723, 139.7646634200106 35.68090514053586, 139.7645116794728 35.68120813972699, 139.7645085869462 35.68137665200113, 139.7644977553863 35.68155558194019, 139.7645323703742 35.68164042211011, 139.7635068395114 35.68188084232187, 139.7621338069461 35.6822043196735, 139.7625670153928 35.68355994002107, 139.7626985288521 35.6841340068716, 139.7602549811364 35.68445781435403, 139.760539891425 35.68532094277085, 139.760820668138 35.6852828746813, 139.7609281849176 35.68566390889663, 139.76098412112 35.6856542951082, 139.7610008489638 35.68571627432024, 139.7630006048042 35.68528128266193, 139.7645132408104 35.68494354586642, 139.7656260135627 35.68470306121844, 139.7657343155813 35.68467924993617))\n",
      "POLYGON ((139.7621338069461 35.6822043196735, 139.7635068395114 35.68188084232187, 139.7645323703742 35.68164042211011, 139.7644977553863 35.68155558194019, 139.7645085869462 35.68137665200113, 139.7645116794728 35.68120813972699, 139.7646634200106 35.68090514053586, 139.7653520431712 35.67981786559723, 139.7655618013588 35.67949775069537, 139.7656000673716 35.67939453708055, 139.7649235613821 35.67760599021324, 139.7634054326896 35.67794665317937, 139.7622701464587 35.67819879481528, 139.7608638464712 35.67852019681258, 139.7609695106917 35.67883799341954, 139.7613216815014 35.67985668262348, 139.7617004020134 35.6809194339744, 139.7621338069461 35.6822043196735))\n"
     ]
    }
   ],
   "source": [
    "for y in range(len(df_)):\n",
    "    print(df_.iloc[y]['geometry'])"
   ]
  },
  {
   "cell_type": "code",
   "execution_count": 111,
   "metadata": {},
   "outputs": [
    {
     "data": {
      "text/plain": [
       "[<shapely.geometry.polygon.Polygon at 0x12f7d7450>,\n",
       " <shapely.geometry.polygon.Polygon at 0x12f7d74d0>]"
      ]
     },
     "execution_count": 111,
     "metadata": {},
     "output_type": "execute_result"
    }
   ],
   "source": [
    "#from shapely.geometry import shape\n",
    "polygons =  [df_.iloc[i]['geometry'] for i in range(len(df_))]\n",
    "polygons"
   ]
  },
  {
   "cell_type": "code",
   "execution_count": 119,
   "metadata": {},
   "outputs": [
    {
     "data": {
      "text/plain": [
       "<matplotlib.axes._subplots.AxesSubplot at 0x1315219d0>"
      ]
     },
     "execution_count": 119,
     "metadata": {},
     "output_type": "execute_result"
    },
    {
     "data": {
      "image/png": "[encoded data removed]",
      "text/plain": [
       "<Figure size 432x288 with 1 Axes>"
      ]
     },
     "metadata": {
      "needs_background": "light"
     },
     "output_type": "display_data"
    }
   ],
   "source": [
    "from shapely.ops import cascaded_union\n",
    "dissolved_polygons = cascaded_union(polygons)\n",
    "\n",
    "df1 = gpd.GeoDataFrame({'geometry': [dissolved_polygons,dissolved_polygons], 'code':['1','2']})\n",
    "df1.plot()"
   ]
  },
  {
   "cell_type": "code",
   "execution_count": 120,
   "metadata": {},
   "outputs": [],
   "source": [
    "df1.to_file('hoge.shp')\n",
    "#mergedpoly =  df_.iloc[0].union(df_.iloc[1])"
   ]
  },
  {
   "cell_type": "code",
   "execution_count": null,
   "metadata": {},
   "outputs": [],
   "source": []
  },
  {
   "cell_type": "code",
   "execution_count": 61,
   "metadata": {},
   "outputs": [
    {
     "data": {
      "text/plain": [
       "PostalCode(jisx0402='13101', old_code='100  ', postal_code='1000000', prefecture='東京都', city='千代田区', neighborhood='', prefecture_kana='トウキョウト', city_kana='チヨダク', neighborhood_kana='', partial=False, chome=False, koazabanchi=False, multi=False, multiline=False, update_status='変更なし', update_reason='変更なし', note='以下に掲載がない場合', alternates=[])"
      ]
     },
     "execution_count": 61,
     "metadata": {},
     "output_type": "execute_result"
    }
   ],
   "source": [
    "a = posuto.get('1000000')\n",
    "a"
   ]
  },
  {
   "cell_type": "code",
   "execution_count": 7,
   "metadata": {},
   "outputs": [
    {
     "data": {
      "text/plain": [
       "['__class__',\n",
       " '__del__',\n",
       " '__delattr__',\n",
       " '__dict__',\n",
       " '__dir__',\n",
       " '__doc__',\n",
       " '__eq__',\n",
       " '__format__',\n",
       " '__ge__',\n",
       " '__getattribute__',\n",
       " '__gt__',\n",
       " '__hash__',\n",
       " '__init__',\n",
       " '__init_subclass__',\n",
       " '__le__',\n",
       " '__lt__',\n",
       " '__module__',\n",
       " '__ne__',\n",
       " '__new__',\n",
       " '__reduce__',\n",
       " '__reduce_ex__',\n",
       " '__repr__',\n",
       " '__setattr__',\n",
       " '__sizeof__',\n",
       " '__str__',\n",
       " '__subclasshook__',\n",
       " '__weakref__',\n",
       " 'address_from_town',\n",
       " 'c',\n",
       " 'cities_from_prefecture',\n",
       " 'close',\n",
       " 'conn',\n",
       " 'from_postal_code',\n",
       " 'prefectures',\n",
       " 'towns_from_city']"
      ]
     },
     "execution_count": 7,
     "metadata": {},
     "output_type": "execute_result"
    }
   ],
   "source": [
    "from jusho import Jusho\n",
    "\n",
    "postman = Jusho()\n",
    "dir(postman)"
   ]
  },
  {
   "cell_type": "code",
   "execution_count": 13,
   "metadata": {},
   "outputs": [
    {
     "ename": "TypeError",
     "evalue": "address_from_town() missing 2 required positional arguments: 'city' and 'town'",
     "output_type": "error",
     "traceback": [
      "\u001b[0;31m----------------------------------------------------------------\u001b[0m",
      "\u001b[0;31mTypeError\u001b[0m                      Traceback (most recent call last)",
      "\u001b[0;32m<ipython-input-13-4933979822d4>\u001b[0m in \u001b[0;36m<module>\u001b[0;34m\u001b[0m\n\u001b[0;32m----> 1\u001b[0;31m \u001b[0mpostman\u001b[0m\u001b[0;34m.\u001b[0m\u001b[0maddress_from_town\u001b[0m\u001b[0;34m(\u001b[0m\u001b[0;34m'東京都千代田区丸の内一丁目'\u001b[0m\u001b[0;34m)\u001b[0m\u001b[0;34m\u001b[0m\u001b[0;34m\u001b[0m\u001b[0m\n\u001b[0m",
      "\u001b[0;31mTypeError\u001b[0m: address_from_town() missing 2 required positional arguments: 'city' and 'town'"
     ]
    }
   ],
   "source": [
    "postman.address_from_town('東京都千代田区丸の内一丁目')"
   ]
  },
  {
   "cell_type": "code",
   "execution_count": 14,
   "metadata": {},
   "outputs": [
    {
     "data": {
      "text/plain": [
       "\u001b[0;31mSignature:\u001b[0m\n",
       "\u001b[0mpostman\u001b[0m\u001b[0;34m.\u001b[0m\u001b[0maddress_from_town\u001b[0m\u001b[0;34m(\u001b[0m\u001b[0;34m\u001b[0m\n",
       "\u001b[0;34m\u001b[0m    \u001b[0mprefecture\u001b[0m\u001b[0;34m:\u001b[0m \u001b[0mstr\u001b[0m\u001b[0;34m,\u001b[0m\u001b[0;34m\u001b[0m\n",
       "\u001b[0;34m\u001b[0m    \u001b[0mcity\u001b[0m\u001b[0;34m:\u001b[0m \u001b[0mstr\u001b[0m\u001b[0;34m,\u001b[0m\u001b[0;34m\u001b[0m\n",
       "\u001b[0;34m\u001b[0m    \u001b[0mtown\u001b[0m\u001b[0;34m:\u001b[0m \u001b[0mstr\u001b[0m\u001b[0;34m,\u001b[0m\u001b[0;34m\u001b[0m\n",
       "\u001b[0;34m\u001b[0m    \u001b[0mtype\u001b[0m\u001b[0;34m=\u001b[0m\u001b[0;34m'kana'\u001b[0m\u001b[0;34m,\u001b[0m\u001b[0;34m\u001b[0m\n",
       "\u001b[0;34m\u001b[0m\u001b[0;34m)\u001b[0m \u001b[0;34m->\u001b[0m \u001b[0mUnion\u001b[0m\u001b[0;34m[\u001b[0m\u001b[0mList\u001b[0m\u001b[0;34m[\u001b[0m\u001b[0mjusho\u001b[0m\u001b[0;34m.\u001b[0m\u001b[0mjusho\u001b[0m\u001b[0;34m.\u001b[0m\u001b[0mAddress\u001b[0m\u001b[0;34m]\u001b[0m\u001b[0;34m,\u001b[0m \u001b[0mList\u001b[0m\u001b[0;34m[\u001b[0m\u001b[0mNoneType\u001b[0m\u001b[0;34m]\u001b[0m\u001b[0;34m]\u001b[0m\u001b[0;34m\u001b[0m\u001b[0;34m\u001b[0m\u001b[0m\n",
       "\u001b[0;31mDocstring:\u001b[0m <no docstring>\n",
       "\u001b[0;31mFile:\u001b[0m      ~/.pyenv/versions/testDash/lib/python3.7/site-packages/jusho/jusho.py\n",
       "\u001b[0;31mType:\u001b[0m      method\n"
      ]
     },
     "metadata": {},
     "output_type": "display_data"
    }
   ],
   "source": [
    "postman.address_from_town?"
   ]
  },
  {
   "cell_type": "code",
   "execution_count": null,
   "metadata": {},
   "outputs": [],
   "source": []
  }
 ],
 "metadata": {
  "kernelspec": {
   "display_name": "Python 3",
   "language": "python",
   "name": "python3"
  },
  "language_info": {
   "codemirror_mode": {
    "name": "ipython",
    "version": 3
   },
   "file_extension": ".py",
   "mimetype": "text/x-python",
   "name": "python",
   "nbconvert_exporter": "python",
   "pygments_lexer": "ipython3",
   "version": "3.7.11"
  }
 },
 "nbformat": 4,
 "nbformat_minor": 4
}
